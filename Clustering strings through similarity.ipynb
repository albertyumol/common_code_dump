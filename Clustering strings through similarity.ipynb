{
 "cells": [
  {
   "cell_type": "code",
   "execution_count": null,
   "id": "suburban-valley",
   "metadata": {},
   "outputs": [],
   "source": [
    "import numpy as np\n",
    "import pandas as pd\n",
    "import spacy\n",
    "\n",
    "nlp = spacy.load('en_core_web_lg')\n",
    "\n",
    "df = pd.DataFrame({'Questions': ['What are you doing?','What are you doing tonight?','What are you doing now?','What is your name?','What is your nick name?','What is your full name?','Shall we meet?',\n",
    "                             'How are you doing?' ]})\n",
    "\n",
    "def convert_to_doc(text):\n",
    "    doc = nlp(text)\n",
    "    return doc\n",
    "\n",
    "def similarity_score(s1, s2):\n",
    "    x = s1.similarity(s2)\n",
    "    return 1.0 if x >= 0.9 else 0.0\n",
    "\n",
    "def score_balancer(text1, text2):\n",
    "    doc1 = convert_to_doc(text1)\n",
    "    doc2 = convert_to_doc(text2)\n",
    "    return (similarity_score(doc1, doc2) + similarity_score(doc2, doc1)) / 2\n",
    "\n",
    "def column_similarity(x, df):\n",
    "    sim_score = []\n",
    "    for i in df['Questions']:\n",
    "        sim_score.append(score_balancer(x, i))\n",
    "    return sim_score\n",
    "\n",
    "df['similarity'] = df['Questions'].apply(lambda x : column_similarity(x,df)).astype(str)\n",
    "\n",
    "appended_data = []\n",
    "for i, j in enumerate(df.groupby('similarity')['Questions']):\n",
    "    data = pd.DataFrame(j[1])\n",
    "    data['cluster'] = i\n",
    "    appended_data.append(data)\n",
    "appended_data_ = pd.concat(appended_data)\n",
    "\n",
    "cluster_code = {0 : 'meeting', 1 : 'name', 2 : 'action'}\n",
    "appended_data_ = appended_data_.replace({'cluster': cluster_code})\n",
    "appended_data_"
   ]
  }
 ],
 "metadata": {
  "kernelspec": {
   "display_name": "Python 3",
   "language": "python",
   "name": "python3"
  },
  "language_info": {
   "codemirror_mode": {
    "name": "ipython",
    "version": 3
   },
   "file_extension": ".py",
   "mimetype": "text/x-python",
   "name": "python",
   "nbconvert_exporter": "python",
   "pygments_lexer": "ipython3",
   "version": "3.8.3"
  }
 },
 "nbformat": 4,
 "nbformat_minor": 5
}
